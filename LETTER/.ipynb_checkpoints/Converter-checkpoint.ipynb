{
 "cells": [
  {
   "cell_type": "code",
   "execution_count": 1,
   "metadata": {},
   "outputs": [],
   "source": [
    "import pandas as pd\n",
    "import idx2numpy\n",
    "import numpy as np\n",
    "from math import *"
   ]
  },
  {
   "cell_type": "code",
   "execution_count": 59,
   "metadata": {},
   "outputs": [
    {
     "data": {
      "text/plain": [
       "'W'"
      ]
     },
     "execution_count": 59,
     "metadata": {},
     "output_type": "execute_result"
    }
   ],
   "source": [
    "with open(\"data.txt\", \"r\") as x:\n",
    "    file = str(x.read())\n",
    "data = [[0] * 17 for k in range(20000)]\n",
    "lines = file.split(\"\\n\")\n",
    "for i in range(20000):\n",
    "    data[i] = lines[i].split(\",\")\n",
    "data[10000][0]"
   ]
  },
  {
   "cell_type": "code",
   "execution_count": 119,
   "metadata": {},
   "outputs": [],
   "source": [
    "npdata = np.ones((16000, 90), dtype = np.int8) * (-1)\n",
    "for i in range(16000):\n",
    "    npdata[i][90 - (ord(data[i][0]) - 64)] = 1\n",
    "for n in range(16000):\n",
    "    for i in range(16):\n",
    "        binar = [0] * 4\n",
    "        binar[3] = int(data[n][i + 1]) // 8\n",
    "        binar[2] = int(data[n][i + 1]) // 4 - 2 * binar[3]\n",
    "        binar[0] = int(data[n][i + 1]) % 2\n",
    "        binar[1] = (int(data[n][i + 1]) % 4 - binar[0]) // 2 \n",
    "        if binar[3]:\n",
    "            npdata[n][4 * i + 0] = 1\n",
    "        if binar[2]:\n",
    "            npdata[n][4 * i + 1] = 1\n",
    "        if binar[1]:\n",
    "            npdata[n][4 * i + 2] = 1\n",
    "        if binar[0]:\n",
    "            npdata[n][4 * i + 3] = 1\n",
    "\n",
    "mean = np.zeros((90), dtype = np.float_)\n",
    "for i in range(16000):\n",
    "    mean += npdata[i]\n",
    "mean = mean / 16000\n",
    "idx2numpy.convert_to_file(\"single\", mean)\n",
    "    \n"
   ]
  },
  {
   "cell_type": "code",
   "execution_count": 102,
   "metadata": {},
   "outputs": [
    {
     "data": {
      "text/plain": [
       "[1, 1, 1, 1]"
      ]
     },
     "execution_count": 102,
     "metadata": {},
     "output_type": "execute_result"
    }
   ],
   "source": [
    "a = 15\n",
    "binar = [0] * 4\n",
    "binar[3] = a // 8\n",
    "binar[2] = a // 4 - 2 * binar[3]\n",
    "binar[0] = a % 2\n",
    "binar[1] = (a % 4 - binar[0]) // 2 \n",
    "binar"
   ]
  },
  {
   "cell_type": "code",
   "execution_count": 161,
   "metadata": {},
   "outputs": [
    {
     "name": "stdout",
     "output_type": "stream",
     "text": [
      "3158\n"
     ]
    }
   ],
   "source": [
    "cmap = np.zeros((142, 142), dtype = np.int8)\n",
    "l = 0\n",
    "for i in range(142):\n",
    "    cmap[i][i] = 1\n",
    "for i in range(26):\n",
    "    for j in range(32):\n",
    "        cmap[i][52 + j] = 1\n",
    "for i in range(26):\n",
    "    for j in range(32):\n",
    "        cmap[i + 26][52 + j + 32] = 1\n",
    "for i in range(52):\n",
    "    for j in range(26):\n",
    "        cmap[i][52 + 64 + j] = 1\n",
    "l = 0\n",
    "conn = np.zeros((3158, 2), dtype = np.int32)\n",
    "for i in range(142):\n",
    "    for j in range(142 - i):\n",
    "        if cmap[i][i + j]:\n",
    "            conn[l] = [i, i + j]\n",
    "            l += 1\n",
    "idx2numpy.convert_to_file(\"./Data/cmap\", conn)\n",
    "print(l)\n",
    "            \n"
   ]
  },
  {
   "cell_type": "code",
   "execution_count": 143,
   "metadata": {},
   "outputs": [],
   "source": [
    "props = np.array([52, 90, 26], dtype = np.int32)"
   ]
  },
  {
   "cell_type": "code",
   "execution_count": 158,
   "metadata": {},
   "outputs": [],
   "source": [
    "cs = np.zeros((1), dtype = np.int32)\n",
    "idx2numpy.convert_to_file(\"current_step\", cs)"
   ]
  }
 ],
 "metadata": {
  "kernelspec": {
   "display_name": "Python 3",
   "language": "python",
   "name": "python3"
  },
  "language_info": {
   "codemirror_mode": {
    "name": "ipython",
    "version": 3
   },
   "file_extension": ".py",
   "mimetype": "text/x-python",
   "name": "python",
   "nbconvert_exporter": "python",
   "pygments_lexer": "ipython3",
   "version": "3.6.9"
  }
 },
 "nbformat": 4,
 "nbformat_minor": 4
}
