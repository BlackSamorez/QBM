{
 "cells": [
  {
   "cell_type": "code",
   "execution_count": 1,
   "metadata": {},
   "outputs": [],
   "source": [
    "from classes import *"
   ]
  },
  {
   "cell_type": "code",
   "execution_count": 2,
   "metadata": {},
   "outputs": [],
   "source": [
    "def test(a, b, c):\n",
    "    qbm = QBM(a, b, c)\n",
    "    return qbm"
   ]
  },
  {
   "cell_type": "code",
   "execution_count": 3,
   "metadata": {},
   "outputs": [],
   "source": [
    "a = test(50, 410, \"LeapHybridSampler\")\n",
    "a.read_cmap()\n",
    "a.randomize_coef()\n",
    "a.save_coef(\"0\")\n",
    "a.t_step = 500\n"
   ]
  },
  {
   "cell_type": "code",
   "execution_count": null,
   "metadata": {},
   "outputs": [
    {
     "name": "stdout",
     "output_type": "stream",
     "text": [
      "Got respose  2  out of 500\n",
      "Got respose  3  out of 500\n",
      "Got respose  4  out of 500\n",
      "Got respose  5  out of 500\n",
      "Got respose  6  out of 500\n",
      "Got respose  7  out of 500\n",
      "Got respose  8  out of 500\n",
      "Got respose  9  out of 500\n",
      "Got respose  10  out of 500\n",
      "Got respose  11  out of 500\n",
      "Got respose  12  out of 500\n",
      "Got respose  13  out of 500\n"
     ]
    }
   ],
   "source": [
    "a.make_steps(1)"
   ]
  }
 ],
 "metadata": {
  "kernelspec": {
   "display_name": "Python 3",
   "language": "python",
   "name": "python3"
  },
  "language_info": {
   "codemirror_mode": {
    "name": "ipython",
    "version": 3
   },
   "file_extension": ".py",
   "mimetype": "text/x-python",
   "name": "python",
   "nbconvert_exporter": "python",
   "pygments_lexer": "ipython3",
   "version": "3.6.9"
  }
 },
 "nbformat": 4,
 "nbformat_minor": 4
}
