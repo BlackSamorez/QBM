{
 "cells": [
  {
   "cell_type": "code",
   "execution_count": 1,
   "metadata": {},
   "outputs": [],
   "source": [
    "from classes import *"
   ]
  },
  {
   "cell_type": "code",
   "execution_count": 2,
   "metadata": {},
   "outputs": [],
   "source": [
    "def test(a, b, c):\n",
    "    qbm = QBM(a, b, c)\n",
    "    return qbm"
   ]
  },
  {
   "cell_type": "code",
   "execution_count": 3,
   "metadata": {},
   "outputs": [],
   "source": [
    "a = test(1, 1, \"DWaveSampler\")\n",
    "a.path = \"../LETTER/\"\n",
    "a.read_data()"
   ]
  },
  {
   "cell_type": "code",
   "execution_count": 4,
   "metadata": {},
   "outputs": [
    {
     "data": {
      "text/plain": [
       "0"
      ]
     },
     "execution_count": 4,
     "metadata": {},
     "output_type": "execute_result"
    }
   ],
   "source": [
    "l = 0\n",
    "for i in range(106):\n",
    "    for j in range(106):\n",
    "        if a.coef[i][j] != 0:\n",
    "            l += 1\n",
    "l"
   ]
  },
  {
   "cell_type": "code",
   "execution_count": 5,
   "metadata": {},
   "outputs": [
    {
     "data": {
      "text/plain": [
       "array([[0., 0., 0., ..., 0., 0., 0.],\n",
       "       [0., 0., 0., ..., 0., 0., 0.],\n",
       "       [0., 0., 0., ..., 0., 0., 0.],\n",
       "       ...,\n",
       "       [0., 0., 0., ..., 0., 0., 0.],\n",
       "       [0., 0., 0., ..., 0., 0., 0.],\n",
       "       [0., 0., 0., ..., 0., 0., 0.]])"
      ]
     },
     "execution_count": 5,
     "metadata": {},
     "output_type": "execute_result"
    }
   ],
   "source": [
    "a.coef"
   ]
  },
  {
   "cell_type": "code",
   "execution_count": null,
   "metadata": {},
   "outputs": [
    {
     "name": "stdout",
     "output_type": "stream",
     "text": [
      "Step 1 began!\n",
      "Got full respose, n =  1000\n",
      "Response processing has begun:\n",
      "Response processing has finished\n",
      "Dataset processing has begun:\n",
      "Image:  0  out of  16000  processed\n",
      "Image:  500  out of  16000  processed\n",
      "Image:  1000  out of  16000  processed\n",
      "Image:  1500  out of  16000  processed\n",
      "Image:  2000  out of  16000  processed\n",
      "Image:  2500  out of  16000  processed\n",
      "Image:  3000  out of  16000  processed\n",
      "Image:  3500  out of  16000  processed\n",
      "Image:  4000  out of  16000  processed\n",
      "Image:  4500  out of  16000  processed\n",
      "Image:  5000  out of  16000  processed\n",
      "Image:  5500  out of  16000  processed\n",
      "Image:  6000  out of  16000  processed\n",
      "Image:  6500  out of  16000  processed\n",
      "Image:  7000  out of  16000  processed\n",
      "Image:  7500  out of  16000  processed\n",
      "Image:  8000  out of  16000  processed\n",
      "Image:  8500  out of  16000  processed\n",
      "Image:  9000  out of  16000  processed\n",
      "Image:  9500  out of  16000  processed\n",
      "Image:  10000  out of  16000  processed\n",
      "Image:  10500  out of  16000  processed\n",
      "Image:  11000  out of  16000  processed\n",
      "Image:  11500  out of  16000  processed\n",
      "Image:  12000  out of  16000  processed\n",
      "Image:  12500  out of  16000  processed\n",
      "Image:  13000  out of  16000  processed\n",
      "Image:  13500  out of  16000  processed\n",
      "Image:  14000  out of  16000  processed\n",
      "Image:  14500  out of  16000  processed\n",
      "Image:  15000  out of  16000  processed\n",
      "Image:  15500  out of  16000  processed\n",
      "Dataset processing has finished\n",
      "Step 1 complete!\n",
      "Step 2 began!\n",
      "Got full respose, n =  1000\n",
      "Response processing has begun:\n",
      "Response processing has finished\n",
      "Dataset processing has begun:\n",
      "Image:  0  out of  16000  processed\n",
      "Image:  500  out of  16000  processed\n",
      "Image:  1000  out of  16000  processed\n",
      "Image:  1500  out of  16000  processed\n",
      "Image:  2000  out of  16000  processed\n",
      "Image:  2500  out of  16000  processed\n",
      "Image:  3000  out of  16000  processed\n",
      "Image:  3500  out of  16000  processed\n",
      "Image:  4000  out of  16000  processed\n",
      "Image:  4500  out of  16000  processed\n",
      "Image:  5000  out of  16000  processed\n",
      "Image:  5500  out of  16000  processed\n",
      "Image:  6000  out of  16000  processed\n",
      "Image:  6500  out of  16000  processed\n",
      "Image:  7000  out of  16000  processed\n",
      "Image:  7500  out of  16000  processed\n",
      "Image:  8000  out of  16000  processed\n",
      "Image:  8500  out of  16000  processed\n",
      "Image:  9000  out of  16000  processed\n",
      "Image:  9500  out of  16000  processed\n",
      "Image:  10000  out of  16000  processed\n",
      "Image:  10500  out of  16000  processed\n",
      "Image:  11000  out of  16000  processed\n",
      "Image:  11500  out of  16000  processed\n",
      "Image:  12000  out of  16000  processed\n",
      "Image:  12500  out of  16000  processed\n",
      "Image:  13000  out of  16000  processed\n",
      "Image:  13500  out of  16000  processed\n",
      "Image:  14000  out of  16000  processed\n",
      "Image:  14500  out of  16000  processed\n",
      "Image:  15000  out of  16000  processed\n",
      "Image:  15500  out of  16000  processed\n",
      "Dataset processing has finished\n",
      "Step 2 complete!\n",
      "Step 3 began!\n",
      "Got full respose, n =  1000\n",
      "Response processing has begun:\n",
      "Response processing has finished\n",
      "Dataset processing has begun:\n",
      "Image:  0  out of  16000  processed\n",
      "Image:  500  out of  16000  processed\n",
      "Image:  1000  out of  16000  processed\n",
      "Image:  1500  out of  16000  processed\n",
      "Image:  2000  out of  16000  processed\n",
      "Image:  2500  out of  16000  processed\n",
      "Image:  3000  out of  16000  processed\n",
      "Image:  3500  out of  16000  processed\n",
      "Image:  4000  out of  16000  processed\n",
      "Image:  4500  out of  16000  processed\n",
      "Image:  5000  out of  16000  processed\n",
      "Image:  5500  out of  16000  processed\n",
      "Image:  6000  out of  16000  processed\n",
      "Image:  6500  out of  16000  processed\n",
      "Image:  7000  out of  16000  processed\n",
      "Image:  7500  out of  16000  processed\n",
      "Image:  8000  out of  16000  processed\n",
      "Image:  8500  out of  16000  processed\n",
      "Image:  9000  out of  16000  processed\n",
      "Image:  9500  out of  16000  processed\n",
      "Image:  10000  out of  16000  processed\n",
      "Image:  10500  out of  16000  processed\n",
      "Image:  11000  out of  16000  processed\n",
      "Image:  11500  out of  16000  processed\n",
      "Image:  12000  out of  16000  processed\n",
      "Image:  12500  out of  16000  processed\n",
      "Image:  13000  out of  16000  processed\n"
     ]
    }
   ],
   "source": [
    "size = 0.1\n",
    "a.make_steps(9, size)\n",
    "size = size * 0.75\n",
    "a.make_steps(10, size)\n",
    "size = size * 0.75\n",
    "a.make_steps(10, size)\n",
    "size = size * 0.75\n",
    "a.make_steps(10, size)\n",
    "size = size * 0.75\n",
    "a.make_steps(10, size)\n",
    "size = size * 0.75\n",
    "a.make_steps(10, size)\n",
    "size = size * 0.75\n",
    "a.make_steps(10, size)\n",
    "size = size * 0.75\n",
    "a.make_steps(10, size)\n",
    "size = size * 0.75"
   ]
  },
  {
   "cell_type": "code",
   "execution_count": null,
   "metadata": {},
   "outputs": [],
   "source": [
    "l = 0\n",
    "for i in range(106):\n",
    "    for j in range(106):\n",
    "        if a.coef[i][j] != 0:\n",
    "            l += 1\n",
    "l"
   ]
  }
 ],
 "metadata": {
  "kernelspec": {
   "display_name": "Python 3",
   "language": "python",
   "name": "python3"
  },
  "language_info": {
   "codemirror_mode": {
    "name": "ipython",
    "version": 3
   },
   "file_extension": ".py",
   "mimetype": "text/x-python",
   "name": "python",
   "nbconvert_exporter": "python",
   "pygments_lexer": "ipython3",
   "version": "3.6.9"
  }
 },
 "nbformat": 4,
 "nbformat_minor": 4
}
