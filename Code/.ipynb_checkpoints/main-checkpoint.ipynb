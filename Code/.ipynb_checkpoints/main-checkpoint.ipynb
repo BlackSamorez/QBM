{
 "cells": [
  {
   "cell_type": "code",
   "execution_count": 1,
   "metadata": {},
   "outputs": [],
   "source": [
    "from classes import *"
   ]
  },
  {
   "cell_type": "code",
   "execution_count": 2,
   "metadata": {},
   "outputs": [],
   "source": [
    "def test(a, b, c):\n",
    "    qbm = QBM(a, b, c)\n",
    "    return qbm"
   ]
  },
  {
   "cell_type": "code",
   "execution_count": 3,
   "metadata": {},
   "outputs": [],
   "source": [
    "a = test(1, 1, \"Test\")\n",
    "a.path = \"../TEST/\"\n",
    "a.read_data()\n",
    "a.t_step = 100\n",
    "a.stepsize = 0.1"
   ]
  },
  {
   "cell_type": "code",
   "execution_count": 4,
   "metadata": {},
   "outputs": [],
   "source": [
    "a.randomize_coef()\n",
    "a.save_coef(\"0\")\n",
    "cs = np.array([0], dtype = np.int32)\n",
    "idx2numpy.convert_to_file(a.path + \"current_step\", cs)\n",
    "a.save_coef(\"0\")"
   ]
  },
  {
   "cell_type": "code",
   "execution_count": 5,
   "metadata": {},
   "outputs": [
    {
     "name": "stdout",
     "output_type": "stream",
     "text": [
      "Step 0 began!\n",
      "Step 0 complete!\n"
     ]
    },
    {
     "ename": "OverflowError",
     "evalue": "math range error",
     "output_type": "error",
     "traceback": [
      "\u001b[0;31m---------------------------------------------------------------------------\u001b[0m",
      "\u001b[0;31mOverflowError\u001b[0m                             Traceback (most recent call last)",
      "\u001b[0;32m<ipython-input-5-5ba29c630b59>\u001b[0m in \u001b[0;36m<module>\u001b[0;34m\u001b[0m\n\u001b[1;32m      3\u001b[0m \u001b[0;32mfor\u001b[0m \u001b[0mi\u001b[0m \u001b[0;32min\u001b[0m \u001b[0mrange\u001b[0m\u001b[0;34m(\u001b[0m\u001b[0mn\u001b[0m\u001b[0;34m)\u001b[0m\u001b[0;34m:\u001b[0m\u001b[0;34m\u001b[0m\u001b[0;34m\u001b[0m\u001b[0m\n\u001b[1;32m      4\u001b[0m     \u001b[0ma\u001b[0m\u001b[0;34m.\u001b[0m\u001b[0mmake_steps\u001b[0m\u001b[0;34m(\u001b[0m\u001b[0;36m1\u001b[0m\u001b[0;34m)\u001b[0m\u001b[0;34m\u001b[0m\u001b[0;34m\u001b[0m\u001b[0m\n\u001b[0;32m----> 5\u001b[0;31m     \u001b[0mdiv\u001b[0m\u001b[0;34m[\u001b[0m\u001b[0;36m0\u001b[0m\u001b[0;34m]\u001b[0m\u001b[0;34m[\u001b[0m\u001b[0mi\u001b[0m\u001b[0;34m]\u001b[0m \u001b[0;34m=\u001b[0m \u001b[0ma\u001b[0m\u001b[0;34m.\u001b[0m\u001b[0mcalc_div\u001b[0m\u001b[0;34m(\u001b[0m\u001b[0;32mTrue\u001b[0m\u001b[0;34m)\u001b[0m\u001b[0;34m\u001b[0m\u001b[0;34m\u001b[0m\u001b[0m\n\u001b[0m\u001b[1;32m      6\u001b[0m     \u001b[0mprint\u001b[0m\u001b[0;34m(\u001b[0m\u001b[0mdiv\u001b[0m\u001b[0;34m[\u001b[0m\u001b[0;36m0\u001b[0m\u001b[0;34m]\u001b[0m\u001b[0;34m[\u001b[0m\u001b[0mi\u001b[0m\u001b[0;34m]\u001b[0m\u001b[0;34m)\u001b[0m\u001b[0;34m\u001b[0m\u001b[0;34m\u001b[0m\u001b[0m\n\u001b[1;32m      7\u001b[0m     \u001b[0mdiv\u001b[0m\u001b[0;34m[\u001b[0m\u001b[0;36m1\u001b[0m\u001b[0;34m]\u001b[0m\u001b[0;34m[\u001b[0m\u001b[0mi\u001b[0m\u001b[0;34m]\u001b[0m \u001b[0;34m=\u001b[0m \u001b[0ma\u001b[0m\u001b[0;34m.\u001b[0m\u001b[0mcalc_div\u001b[0m\u001b[0;34m(\u001b[0m\u001b[0;32mFalse\u001b[0m\u001b[0;34m)\u001b[0m\u001b[0;34m\u001b[0m\u001b[0;34m\u001b[0m\u001b[0m\n",
      "\u001b[0;32m~/Dox/QBM/Code/classes.py\u001b[0m in \u001b[0;36mcalc_div\u001b[0;34m(self, beff)\u001b[0m\n\u001b[1;32m    355\u001b[0m         \u001b[0mi\u001b[0m \u001b[0;34m=\u001b[0m \u001b[0;36m0\u001b[0m\u001b[0;34m\u001b[0m\u001b[0;34m\u001b[0m\u001b[0m\n\u001b[1;32m    356\u001b[0m         \u001b[0;32mfor\u001b[0m \u001b[0mimage\u001b[0m \u001b[0;32min\u001b[0m \u001b[0mself\u001b[0m\u001b[0;34m.\u001b[0m\u001b[0mimages\u001b[0m\u001b[0;34m:\u001b[0m\u001b[0;34m\u001b[0m\u001b[0;34m\u001b[0m\u001b[0m\n\u001b[0;32m--> 357\u001b[0;31m             \u001b[0mpvs\u001b[0m\u001b[0;34m[\u001b[0m\u001b[0mi\u001b[0m\u001b[0;34m]\u001b[0m \u001b[0;34m=\u001b[0m \u001b[0mself\u001b[0m\u001b[0;34m.\u001b[0m\u001b[0mcalc_pv\u001b[0m\u001b[0;34m(\u001b[0m\u001b[0mimage\u001b[0m\u001b[0;34m)\u001b[0m\u001b[0;34m\u001b[0m\u001b[0;34m\u001b[0m\u001b[0m\n\u001b[0m\u001b[1;32m    358\u001b[0m             \u001b[0mpvsum\u001b[0m \u001b[0;34m+=\u001b[0m \u001b[0mself\u001b[0m\u001b[0;34m.\u001b[0m\u001b[0mcalc_pv\u001b[0m\u001b[0;34m(\u001b[0m\u001b[0mimage\u001b[0m\u001b[0;34m,\u001b[0m \u001b[0mbeff\u001b[0m\u001b[0;34m)\u001b[0m\u001b[0;34m\u001b[0m\u001b[0;34m\u001b[0m\u001b[0m\n\u001b[1;32m    359\u001b[0m             \u001b[0mi\u001b[0m \u001b[0;34m+=\u001b[0m \u001b[0;36m1\u001b[0m\u001b[0;34m\u001b[0m\u001b[0;34m\u001b[0m\u001b[0m\n",
      "\u001b[0;32m~/Dox/QBM/Code/classes.py\u001b[0m in \u001b[0;36mcalc_pv\u001b[0;34m(self, v, beff)\u001b[0m\n\u001b[1;32m    346\u001b[0m         \u001b[0;32mif\u001b[0m \u001b[0mbeff\u001b[0m\u001b[0;34m:\u001b[0m\u001b[0;34m\u001b[0m\u001b[0;34m\u001b[0m\u001b[0m\n\u001b[1;32m    347\u001b[0m             \u001b[0;32mfor\u001b[0m \u001b[0mi\u001b[0m \u001b[0;32min\u001b[0m \u001b[0mrange\u001b[0m\u001b[0;34m(\u001b[0m\u001b[0mself\u001b[0m\u001b[0;34m.\u001b[0m\u001b[0mhidlen\u001b[0m\u001b[0;34m)\u001b[0m\u001b[0;34m:\u001b[0m\u001b[0;34m\u001b[0m\u001b[0;34m\u001b[0m\u001b[0m\n\u001b[0;32m--> 348\u001b[0;31m                 \u001b[0mpv\u001b[0m \u001b[0;34m=\u001b[0m \u001b[0mpv\u001b[0m \u001b[0;34m*\u001b[0m \u001b[0mcosh\u001b[0m\u001b[0;34m(\u001b[0m\u001b[0mb_eff\u001b[0m\u001b[0;34m[\u001b[0m\u001b[0mi\u001b[0m\u001b[0;34m]\u001b[0m\u001b[0;34m)\u001b[0m\u001b[0;34m\u001b[0m\u001b[0;34m\u001b[0m\u001b[0m\n\u001b[0m\u001b[1;32m    349\u001b[0m         \u001b[0;32mreturn\u001b[0m \u001b[0mpv\u001b[0m\u001b[0;34m\u001b[0m\u001b[0;34m\u001b[0m\u001b[0m\n\u001b[1;32m    350\u001b[0m \u001b[0;34m\u001b[0m\u001b[0m\n",
      "\u001b[0;31mOverflowError\u001b[0m: math range error"
     ]
    }
   ],
   "source": [
    "n = 200\n",
    "div = np.zeros((3, n), dtype = np.float_)\n",
    "for i in range(n):\n",
    "    a.make_steps(1)\n",
    "    div[0][i] = a.calc_div(True)\n",
    "    print(div[0][i])\n",
    "    div[1][i] = a.calc_div(False)\n",
    "    div[2][i] = div[0][i] - div[1][i]\n",
    "    a.stepsize = ((div[0][i]) ** 1.5 ) * 0.005\n",
    "    "
   ]
  },
  {
   "cell_type": "code",
   "execution_count": null,
   "metadata": {},
   "outputs": [],
   "source": [
    "one = 0\n",
    "for i in range(len(a.answer)):\n",
    "    one += a.prob[i]\n",
    "one"
   ]
  },
  {
   "cell_type": "code",
   "execution_count": null,
   "metadata": {},
   "outputs": [],
   "source": [
    "plt.close()\n",
    "plt.plot(div[0])\n",
    "plt.plot(div[1])\n",
    "plt.plot(div[2])\n",
    "plt.show()"
   ]
  },
  {
   "cell_type": "code",
   "execution_count": null,
   "metadata": {},
   "outputs": [],
   "source": [
    "a.double_unfixed"
   ]
  },
  {
   "cell_type": "code",
   "execution_count": null,
   "metadata": {},
   "outputs": [],
   "source": [
    "count = 0\n",
    "for i in range(a.answerlen):\n",
    "    count += a.answer[i][1] * a.prob[i]\n",
    "count"
   ]
  },
  {
   "cell_type": "code",
   "execution_count": null,
   "metadata": {},
   "outputs": [],
   "source": [
    "a.double_fixed"
   ]
  },
  {
   "cell_type": "code",
   "execution_count": null,
   "metadata": {},
   "outputs": [],
   "source": [
    "a.coef"
   ]
  },
  {
   "cell_type": "code",
   "execution_count": null,
   "metadata": {},
   "outputs": [],
   "source": [
    "a.single_unfixed"
   ]
  },
  {
   "cell_type": "markdown",
   "metadata": {},
   "source": [
    "print(a.calc_pv(np.array([-1, -1, -1, -1, 1, -1, -1, -1, -1])))\n",
    "print(' ')\n",
    "print(a.calc_pv(np.array([1, -1, -1, -1, -1, 1, -1, -1, -1])))\n",
    "print(a.calc_pv(np.array([-1, 1, -1, -1, -1, 1, -1, -1, -1])))\n",
    "print(a.calc_pv(np.array([-1, -1, 1, -1, -1, 1, -1, -1, -1])))\n",
    "print(a.calc_pv(np.array([-1, -1, -1, 1, -1, 1, -1, -1, -1])))\n",
    "print(' ')\n",
    "print(a.calc_pv(np.array([1, 1, -1, -1, -1, -1, 1, -1, -1])))\n",
    "print(a.calc_pv(np.array([1, -1, 1, -1, -1, -1, 1, -1, -1])))\n",
    "print(a.calc_pv(np.array([1, -1, -1, 1, -1, -1, 1, -1, -1])))\n",
    "print(a.calc_pv(np.array([-1, 1, -1, 1, -1, -1, 1, -1, -1])))\n",
    "print(a.calc_pv(np.array([-1, -1, 1, 1, -1, -1, 1, -1, -1])))\n",
    "print(a.calc_pv(np.array([-1, 1, 1, -1, -1, -1, 1, -1, -1])))\n",
    "print(' ')\n",
    "print(a.calc_pv(np.array([-1, 1, 1, 1, -1, -1, -1, 1, -1])))\n",
    "print(a.calc_pv(np.array([1, -1, 1, 1, -1, -1, -1, 1, -1])))\n",
    "print(a.calc_pv(np.array([1, 1, -1, 1, -1, -1, -1, 1, -1])))\n",
    "print(a.calc_pv(np.array([1, 1, 1, -1, -1, -1, -1, 1, -1])))\n",
    "print(' ')\n",
    "print(a.calc_pv(np.array([1, 1, 1, 1, -1, -1, -1, -1, 1])))\n"
   ]
  },
  {
   "cell_type": "markdown",
   "metadata": {},
   "source": [
    "print(\"output 1 test\")\n",
    "print(a.calc_pv(np.array([-1, -1, 1, -1, -1, -1])))\n",
    "print(a.calc_pv(np.array([-1, -1, -1, 1, -1, -1])))\n",
    "print(a.calc_pv(np.array([-1, -1, -1, -1, 1, -1])))\n",
    "print(a.calc_pv(np.array([-1, -1, -1, -1, -1, 1])))\n",
    "print(\"output 3 test\")\n",
    "print(a.calc_pv(np.array([1, 1, 1, -1, -1, -1])))\n",
    "print(a.calc_pv(np.array([1, 1, -1, 1, -1, -1])))\n",
    "print(a.calc_pv(np.array([1, 1, -1, -1, 1, -1])))\n",
    "print(a.calc_pv(np.array([1, 1, -1, -1, -1, 1])))"
   ]
  },
  {
   "cell_type": "code",
   "execution_count": null,
   "metadata": {},
   "outputs": [],
   "source": [
    "ac = [[0] * (a.hidlen + a.vislen) for x in range(a.hidlen + a.vislen)]\n",
    "for i in range(a.hidlen + a.vislen):\n",
    "    for j in range(a.hidlen + a.vislen):\n",
    "        if abs(a.coef[i][j]) > 0:\n",
    "            ac[i][j] = round(a.coef[i][j] * 100) / 100\n",
    "ac\n",
    "        "
   ]
  },
  {
   "cell_type": "code",
   "execution_count": null,
   "metadata": {},
   "outputs": [],
   "source": [
    "a.coef"
   ]
  },
  {
   "cell_type": "code",
   "execution_count": null,
   "metadata": {},
   "outputs": [],
   "source": [
    "a.calc_single_unfixed()"
   ]
  },
  {
   "cell_type": "code",
   "execution_count": null,
   "metadata": {},
   "outputs": [],
   "source": [
    "ro = [0] * 1000\n",
    "for x in range(1000):\n",
    "    for i in range(a.hidlen + a.vislen):\n",
    "        for j in range(a.hidlen + a.vislen):\n",
    "            if abs(a.coef[i][j]) > 0.001 * x and abs(a.coef[i][j]) <= 0.001 * (x + 1):\n",
    "                ro[x] += 1\n",
    "            \n",
    "plt.plot(ro)\n",
    "plt.show()\n",
    "                "
   ]
  },
  {
   "cell_type": "code",
   "execution_count": null,
   "metadata": {},
   "outputs": [],
   "source": [
    "print(0)\n",
    "print(a.calc_pv(np.array([1, -1, -1, -1, 1, -1, -1, -1, -1])))\n",
    "print(a.calc_pv(np.array([1, -1, -1, -1, -1, 1, -1, -1, -1])))\n",
    "print(a.calc_pv(np.array([1, -1, -1, -1, -1, -1, 1, -1, -1])))\n",
    "print(a.calc_pv(np.array([1, -1, -1, -1, -1, -1, -1, 1, -1])))\n",
    "print(a.calc_pv(np.array([1, -1, -1, -1, -1, -1, -1, -1, 1])))"
   ]
  },
  {
   "cell_type": "code",
   "execution_count": null,
   "metadata": {},
   "outputs": [],
   "source": [
    "a.calc_div()"
   ]
  }
 ],
 "metadata": {
  "kernelspec": {
   "display_name": "Python 3",
   "language": "python",
   "name": "python3"
  },
  "language_info": {
   "codemirror_mode": {
    "name": "ipython",
    "version": 3
   },
   "file_extension": ".py",
   "mimetype": "text/x-python",
   "name": "python",
   "nbconvert_exporter": "python",
   "pygments_lexer": "ipython3",
   "version": "3.6.9"
  }
 },
 "nbformat": 4,
 "nbformat_minor": 4
}
