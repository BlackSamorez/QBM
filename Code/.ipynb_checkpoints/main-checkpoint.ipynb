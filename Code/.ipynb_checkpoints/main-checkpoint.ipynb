{
 "cells": [
  {
   "cell_type": "code",
   "execution_count": 1,
   "metadata": {},
   "outputs": [],
   "source": [
    "from classes import *"
   ]
  },
  {
   "cell_type": "code",
   "execution_count": 2,
   "metadata": {},
   "outputs": [],
   "source": [
    "def test(a, b, c):\n",
    "    qbm = QBM(a, b, c)\n",
    "    return qbm"
   ]
  },
  {
   "cell_type": "code",
   "execution_count": 3,
   "metadata": {},
   "outputs": [],
   "source": [
    "a = test(1, 1, \"DWaveSampler\")\n",
    "a.path = \"../LETTER/\"\n",
    "a.read_data()"
   ]
  },
  {
   "cell_type": "code",
   "execution_count": 4,
   "metadata": {},
   "outputs": [
    {
     "data": {
      "text/plain": [
       "169"
      ]
     },
     "execution_count": 4,
     "metadata": {},
     "output_type": "execute_result"
    }
   ],
   "source": [
    "l = 0\n",
    "for i in range(106):\n",
    "    for j in range(106):\n",
    "        if a.coef[i][j] != 0:\n",
    "            l += 1\n",
    "l"
   ]
  },
  {
   "cell_type": "code",
   "execution_count": null,
   "metadata": {},
   "outputs": [],
   "source": [
    "size = 0.1\n",
    "a.make_steps(9, size)\n",
    "size = size * 0.75\n",
    "a.make_steps(10, size)\n",
    "size = size * 0.75\n",
    "a.make_steps(10, size)\n",
    "size = size * 0.75\n",
    "a.make_steps(10, size)\n",
    "size = size * 0.75\n",
    "a.make_steps(10, size)\n",
    "size = size * 0.75\n",
    "a.make_steps(10, size)\n",
    "size = size * 0.75\n",
    "a.make_steps(10, size)\n",
    "size = size * 0.75\n",
    "a.make_steps(10, size)\n",
    "size = size * 0.75"
   ]
  },
  {
   "cell_type": "code",
   "execution_count": null,
   "metadata": {},
   "outputs": [],
   "source": [
    "l = 0\n",
    "for i in range(106):\n",
    "    for j in range(106):\n",
    "        if a.coef[i][j] != 0:\n",
    "            l += 1\n",
    "l"
   ]
  }
 ],
 "metadata": {
  "kernelspec": {
   "display_name": "Python 3",
   "language": "python",
   "name": "python3"
  },
  "language_info": {
   "codemirror_mode": {
    "name": "ipython",
    "version": 3
   },
   "file_extension": ".py",
   "mimetype": "text/x-python",
   "name": "python",
   "nbconvert_exporter": "python",
   "pygments_lexer": "ipython3",
   "version": "3.6.9"
  }
 },
 "nbformat": 4,
 "nbformat_minor": 4
}
