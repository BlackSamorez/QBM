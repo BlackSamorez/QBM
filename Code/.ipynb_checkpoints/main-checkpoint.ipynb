{
 "cells": [
  {
   "cell_type": "code",
   "execution_count": 1,
   "metadata": {},
   "outputs": [],
   "source": [
    "from classes import *"
   ]
  },
  {
   "cell_type": "code",
   "execution_count": 2,
   "metadata": {},
   "outputs": [],
   "source": [
    "def test(a, b):\n",
    "    qbm = QBM(a, b)\n",
    "    for i in range(a + b):\n",
    "        for j in range(a + b):\n",
    "            qbm.coef[i][j] = random.randrange(100) / 100\n",
    "            if i > j:\n",
    "                qbm.coef[i][j] = 0\n",
    "    for i in range(b):\n",
    "        for j in range(b):\n",
    "            if i != j:\n",
    "                qbm.coef[i][j] = 0\n",
    "    qbm.read_images()\n",
    "    return qbm"
   ]
  },
  {
   "cell_type": "code",
   "execution_count": 3,
   "metadata": {},
   "outputs": [
    {
     "name": "stdout",
     "output_type": "stream",
     "text": [
      "Image:  0\n",
      "Image:  100\n",
      "Image:  200\n",
      "Image:  300\n",
      "Image:  400\n",
      "Image:  500\n",
      "Image:  600\n",
      "Image:  700\n",
      "Image:  800\n",
      "Image:  900\n",
      "Step 11 complete!\n"
     ]
    }
   ],
   "source": [
    "a = test(50, 410)\n",
    "a.make_steps(100)"
   ]
  }
 ],
 "metadata": {
  "kernelspec": {
   "display_name": "Python 3",
   "language": "python",
   "name": "python3"
  },
  "language_info": {
   "codemirror_mode": {
    "name": "ipython",
    "version": 3
   },
   "file_extension": ".py",
   "mimetype": "text/x-python",
   "name": "python",
   "nbconvert_exporter": "python",
   "pygments_lexer": "ipython3",
   "version": "3.6.9"
  }
 },
 "nbformat": 4,
 "nbformat_minor": 4
}
