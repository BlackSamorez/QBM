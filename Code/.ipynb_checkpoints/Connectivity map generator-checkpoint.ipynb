{
 "cells": [
  {
   "cell_type": "code",
   "execution_count": 1,
   "metadata": {},
   "outputs": [],
   "source": [
    "from classes import *"
   ]
  },
  {
   "cell_type": "code",
   "execution_count": 23,
   "metadata": {},
   "outputs": [
    {
     "data": {
      "text/plain": [
       "array([[0, 0],\n",
       "       [1, 1],\n",
       "       [2, 2],\n",
       "       ...,\n",
       "       [0, 0],\n",
       "       [0, 0],\n",
       "       [0, 0]], dtype=int32)"
      ]
     },
     "execution_count": 23,
     "metadata": {},
     "output_type": "execute_result"
    }
   ],
   "source": [
    "cmap = np.zeros((460, 460), dtype = np.bool_)\n",
    "for i in range(10):\n",
    "    for j in range(5):\n",
    "        cmap[5 * i + j][450 + i] = 1\n",
    "        for k in range(80):\n",
    "            cmap[5 * i + j][50 + 80 * j + k] = 1\n",
    "            \n",
    "for i in range(460):\n",
    "    cmap[i][i] = 1\n",
    "            \n",
    "conn = np.zeros((50 + 4000 + 410, 2), dtype = np.int32)\n",
    "n = 0\n",
    "for i in range(410):\n",
    "    for j in range(410):\n",
    "        if cmap[j][i]:\n",
    "            conn[n] = [j, i]\n",
    "            n += 1\n",
    "            print(n)\n",
    "            \n",
    "idx2numpy.convert_to_file(\"../MNIST/cmap\", conn)\n",
    "\n",
    "conn\n"
   ]
  },
  {
   "cell_type": "code",
   "execution_count": null,
   "metadata": {},
   "outputs": [],
   "source": []
  }
 ],
 "metadata": {
  "kernelspec": {
   "display_name": "Python 3",
   "language": "python",
   "name": "python3"
  },
  "language_info": {
   "codemirror_mode": {
    "name": "ipython",
    "version": 3
   },
   "file_extension": ".py",
   "mimetype": "text/x-python",
   "name": "python",
   "nbconvert_exporter": "python",
   "pygments_lexer": "ipython3",
   "version": "3.6.9"
  }
 },
 "nbformat": 4,
 "nbformat_minor": 4
}
