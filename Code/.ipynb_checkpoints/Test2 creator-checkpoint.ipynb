{
 "cells": [
  {
   "cell_type": "code",
   "execution_count": 7,
   "metadata": {},
   "outputs": [
    {
     "data": {
      "text/plain": [
       "array([2.5e-01, 1.0e-10, 1.0e-10, 1.0e-10, 1.0e-10, 2.5e-01, 1.0e-10,\n",
       "       1.0e-10, 1.0e-10, 1.0e-10, 2.5e-01, 1.0e-10, 1.0e-10, 1.0e-10,\n",
       "       1.0e-10, 2.5e-01])"
      ]
     },
     "execution_count": 7,
     "metadata": {},
     "output_type": "execute_result"
    }
   ],
   "source": [
    "import numpy as np\n",
    "from math import *\n",
    "from idx2numpy import convert_to_file as save\n",
    "\n",
    "prop = np.array([6, 6, 4], dtype = np.int32)\n",
    "train = np.array([[]], dtype = np.int8)\n",
    "test = train\n",
    "\n",
    "mean_single = np.array([0, 0, -0.5, -0.5, -0.5, -0.5], dtype = np.float)\n",
    "\n",
    "cmap = []\n",
    "\n",
    "for i in range(12):\n",
    "    cmap += [[i, i]]\n",
    "    \n",
    "for i in range(6):\n",
    "    for j in range(6):\n",
    "        cmap += [[i, 6 + j]]\n",
    "        \n",
    "cmap = np.array(cmap, dtype = np.int32)\n",
    "\n",
    "cs = np.array([1], dtype = np.int32)\n",
    "\n",
    "t0 = np.array([[-1, -1, 1, -1, -1, -1], [-1, -1, -1, 1, -1, -1], [-1, -1, -1, -1, 1, -1], [-1, -1, -1, -1, -1, 1]], dtype = np.int32)\n",
    "t1 = np.array([[-1, 1, 1, -1, -1, -1], [-1, 1, -1, 1, -1, -1], [-1, 1, -1, -1, 1, -1], [-1, 1, -1, -1, -1, 1]], dtype = np.int32)\n",
    "t2 = np.array([[1, -1, 1, -1, -1, -1], [1, -1, -1, 1, -1, -1], [1, -1, -1, -1, 1, -1], [1, -1, -1, -1, -1, 1]], dtype = np.int32)\n",
    "t3 = np.array([[1, 1, 1, -1, -1, -1], [1, 1, -1, 1, -1, -1], [1, 1, -1, -1, 1, -1], [1, 1, -1, -1, -1, 1]], dtype = np.int32)\n",
    "\n",
    "train = np.concatenate((t0, t1, t2, t3))\n",
    "test = train\n",
    "save(\"../TEST2/Data/test\", test)\n",
    "save(\"../TEST2/Data/train\", train)\n",
    "save(\"../TEST2/Data/single\", mean_single)\n",
    "save(\"../TEST2/Data/test\", test)\n",
    "save(\"../TEST2/Data/prop\", prop)\n",
    "save(\"../TEST2/current_step\", cs)\n",
    "save(\"../TEST2/Data/cmap\", cmap)\n",
    "\n",
    "data_prob = np.ones((16), dtype = np.float_) * 10 ** (-10)\n",
    "\n",
    "data_prob[0] = 1 / 4\n",
    "data_prob[5] = 1 / 4\n",
    "data_prob[10] = 1 / 4\n",
    "data_prob[15] = 1 / 4\n",
    "save(\"../TEST2/Data/prob\", data_prob)\n",
    "\n",
    "\n"
   ]
  }
 ],
 "metadata": {
  "kernelspec": {
   "display_name": "Python 3",
   "language": "python",
   "name": "python3"
  },
  "language_info": {
   "codemirror_mode": {
    "name": "ipython",
    "version": 3
   },
   "file_extension": ".py",
   "mimetype": "text/x-python",
   "name": "python",
   "nbconvert_exporter": "python",
   "pygments_lexer": "ipython3",
   "version": "3.6.9"
  }
 },
 "nbformat": 4,
 "nbformat_minor": 4
}
