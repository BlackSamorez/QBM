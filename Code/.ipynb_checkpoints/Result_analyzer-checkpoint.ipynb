{
 "cells": [
  {
   "cell_type": "code",
   "execution_count": 1,
   "metadata": {},
   "outputs": [],
   "source": [
    "from classes import *"
   ]
  },
  {
   "cell_type": "code",
   "execution_count": 2,
   "metadata": {},
   "outputs": [],
   "source": [
    "a = QBM(1, 1, \"DWaveSampler\")\n",
    "a.path = \"../LETTER/\"\n",
    "a.read_data()\n",
    "a.read_coef(\"50\")\n",
    "a.t_step = 500"
   ]
  },
  {
   "cell_type": "markdown",
   "metadata": {},
   "source": [
    "right = 0\n",
    "in3 = 0\n",
    "for i in range(10):\n",
    "    a.read_image(i)\n",
    "    a.make_bqm()\n",
    "    a.fix_image()\n",
    "    a.datan = 0\n",
    "    a.run_test(a.t_step)\n",
    "    a.fetch_answer()\n",
    "    a.analyze_answer()\n",
    "    print(\"Got \", a.top, \", expected\",  a.expected)\n",
    "    if a.top[0] == a.expected:\n",
    "        right += 1\n",
    "    if a.expected in a.top:\n",
    "        in3 += 1\n",
    "print(right, \"right out of 10, \", in3, \"in top 3 out of 10\")"
   ]
  },
  {
   "cell_type": "code",
   "execution_count": null,
   "metadata": {},
   "outputs": [],
   "source": [
    "numbers = [1, 2, 3]\n",
    "a."
   ]
  }
 ],
 "metadata": {
  "kernelspec": {
   "display_name": "Python 3",
   "language": "python",
   "name": "python3"
  },
  "language_info": {
   "codemirror_mode": {
    "name": "ipython",
    "version": 3
   },
   "file_extension": ".py",
   "mimetype": "text/x-python",
   "name": "python",
   "nbconvert_exporter": "python",
   "pygments_lexer": "ipython3",
   "version": "3.6.9"
  }
 },
 "nbformat": 4,
 "nbformat_minor": 4
}
