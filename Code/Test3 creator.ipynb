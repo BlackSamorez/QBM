{
 "cells": [
  {
   "cell_type": "code",
   "execution_count": 1,
   "metadata": {},
   "outputs": [],
   "source": [
    "import numpy as np\n",
    "from math import *\n",
    "from idx2numpy import convert_to_file as save"
   ]
  },
  {
   "cell_type": "code",
   "execution_count": 13,
   "metadata": {},
   "outputs": [],
   "source": [
    "test = np.array([[-1, -1, 1, -1], [1, 1, 1, -1], [-1, 1, -1, 1], [1, -1, -1, 1], [-1, -1, -1, 1], [1, 1, -1, 1], [-1, 1, 1, -1], [1, -1, 1, -1]], dtype = np.int32)\n",
    "train = test\n",
    "\n",
    "data_prob = np.ones((8), dtype = np.float_) * (10 ** -10)\n",
    "data_prob[0] = 1/4\n",
    "data_prob[1] = 1/4\n",
    "data_prob[2] = 1/4\n",
    "data_prob[3] = 1/4\n",
    "\n",
    "prop = np.array([2, 4, 2], dtype = np.int32)\n",
    "\n",
    "mean_single = np.array([0, 0, 0, 0], dtype = np.float_)\n",
    "\n",
    "cmap = np.array([[0, 0], [1, 1], [2, 2], [3, 3], [4, 4], [5, 5], [0, 2], [0, 3], [0, 4], [0, 5], [1, 2], [1, 3], [1, 4], [1, 5]], dtype = np.int32)\n",
    "\n",
    "cs = np.array([0], dtype = np.int32)\n",
    "\n",
    "save(\"../TEST3/Data/test\", test)\n",
    "save(\"../TEST3/Data/train\", train)\n",
    "save(\"../TEST3/Data/single\", mean_single)\n",
    "save(\"../TEST3/Data/test\", test)\n",
    "save(\"../TEST3/Data/prop\", prop)\n",
    "save(\"../TEST3/current_step\", cs)\n",
    "save(\"../TEST3/Data/cmap\", cmap)\n",
    "save(\"../TEST3/Data/prob\", data_prob)"
   ]
  }
 ],
 "metadata": {
  "kernelspec": {
   "display_name": "Python 3",
   "language": "python",
   "name": "python3"
  },
  "language_info": {
   "codemirror_mode": {
    "name": "ipython",
    "version": 3
   },
   "file_extension": ".py",
   "mimetype": "text/x-python",
   "name": "python",
   "nbconvert_exporter": "python",
   "pygments_lexer": "ipython3",
   "version": "3.6.9"
  }
 },
 "nbformat": 4,
 "nbformat_minor": 4
}
