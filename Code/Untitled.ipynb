{
 "cells": [
  {
   "cell_type": "code",
   "execution_count": 1,
   "metadata": {},
   "outputs": [],
   "source": [
    "from classes import *\n",
    "\n",
    "def test(a, b):\n",
    "    qbm = QBM(a, b, 1)\n",
    "    qbm.read_images()\n",
    "    return qbm\n",
    "a = test(1, 2)"
   ]
  },
  {
   "cell_type": "code",
   "execution_count": 2,
   "metadata": {},
   "outputs": [
    {
     "data": {
      "text/plain": [
       "array([[ 0,  1, -1],\n",
       "       [ 0,  0,  0],\n",
       "       [ 0,  0,  0]])"
      ]
     },
     "execution_count": 2,
     "metadata": {},
     "output_type": "execute_result"
    }
   ],
   "source": [
    "a.coef = np.zeros((3, 3), dtype = np.int_)\n",
    "a.coef[0] = [0, 1, -1]\n",
    "a.coef[1] = [0, 0, 0]\n",
    "a.coef[2] = [0, 0, 0]\n",
    "a.coef"
   ]
  },
  {
   "cell_type": "code",
   "execution_count": 3,
   "metadata": {},
   "outputs": [],
   "source": [
    "l = 100\n",
    "a.chosen_images = np.ones((l, 2), dtype = np.int_)\n",
    "for i in range(l // 2):\n",
    "    a.chosen_images[i] = - a.chosen_images[i]\n",
    "for i in range(l):\n",
    "    a.chosen_images[i][1] = - a.chosen_images[i][0]\n",
    "a.mean_single = [0 ,0]"
   ]
  },
  {
   "cell_type": "code",
   "execution_count": 4,
   "metadata": {},
   "outputs": [],
   "source": [
    "a.double_unfixed = np.zeros((3,3), dtype = np.float_)\n",
    "a.double_unfixed[0] = [0, 1, -1]"
   ]
  },
  {
   "cell_type": "code",
   "execution_count": 5,
   "metadata": {},
   "outputs": [
    {
     "name": "stdout",
     "output_type": "stream",
     "text": [
      "Image:  0\n"
     ]
    }
   ],
   "source": [
    "a.calc_double_fixed()"
   ]
  },
  {
   "cell_type": "code",
   "execution_count": 6,
   "metadata": {},
   "outputs": [],
   "source": [
    "v = a.calc_sigma_v([1, -1])\n",
    "k = a.calc_sigma_v([-1, 1])"
   ]
  },
  {
   "cell_type": "code",
   "execution_count": 7,
   "metadata": {},
   "outputs": [
    {
     "name": "stdout",
     "output_type": "stream",
     "text": [
      "[0.96402758 0.         0.        ]\n",
      "[-0.96402758  0.          0.        ]\n"
     ]
    }
   ],
   "source": [
    "print(v)\n",
    "print(k)"
   ]
  },
  {
   "cell_type": "code",
   "execution_count": 8,
   "metadata": {},
   "outputs": [
    {
     "name": "stdout",
     "output_type": "stream",
     "text": [
      "Image:  0\n"
     ]
    },
    {
     "data": {
      "text/plain": [
       "array([4.4408921e-18, 0.0000000e+00, 0.0000000e+00])"
      ]
     },
     "execution_count": 8,
     "metadata": {},
     "output_type": "execute_result"
    }
   ],
   "source": [
    "a.calc_double_fixed()\n",
    "a.single_fixed"
   ]
  },
  {
   "cell_type": "code",
   "execution_count": 9,
   "metadata": {},
   "outputs": [
    {
     "name": "stdout",
     "output_type": "stream",
     "text": [
      "[-0.96402758  0.          0.        ]\n",
      "[-1.92805516  0.          0.        ]\n",
      "[-2.89208274  0.          0.        ]\n",
      "[-3.85611032  0.          0.        ]\n",
      "[-4.8201379  0.         0.       ]\n",
      "[-5.78416548  0.          0.        ]\n",
      "[-6.74819306  0.          0.        ]\n",
      "[-7.71222064  0.          0.        ]\n",
      "[-8.67624822  0.          0.        ]\n",
      "[-9.6402758  0.         0.       ]\n",
      "[-10.60430338   0.           0.        ]\n",
      "[-11.56833096   0.           0.        ]\n",
      "[-12.53235854   0.           0.        ]\n",
      "[-13.49638612   0.           0.        ]\n",
      "[-14.4604137   0.          0.       ]\n",
      "[-15.42444128   0.           0.        ]\n",
      "[-16.38846886   0.           0.        ]\n",
      "[-17.35249644   0.           0.        ]\n",
      "[-18.31652402   0.           0.        ]\n",
      "[-19.2805516   0.          0.       ]\n",
      "[-20.24457918   0.           0.        ]\n",
      "[-21.20860676   0.           0.        ]\n",
      "[-22.17263434   0.           0.        ]\n",
      "[-23.13666192   0.           0.        ]\n",
      "[-24.1006895   0.          0.       ]\n",
      "[-25.06471708   0.           0.        ]\n",
      "[-26.02874466   0.           0.        ]\n",
      "[-26.99277224   0.           0.        ]\n",
      "[-27.95679982   0.           0.        ]\n",
      "[-28.9208274   0.          0.       ]\n",
      "[-29.88485498   0.           0.        ]\n",
      "[-30.84888256   0.           0.        ]\n",
      "[-31.81291014   0.           0.        ]\n",
      "[-32.77693772   0.           0.        ]\n",
      "[-33.7409653   0.          0.       ]\n",
      "[-34.70499288   0.           0.        ]\n",
      "[-35.66902046   0.           0.        ]\n",
      "[-36.63304804   0.           0.        ]\n",
      "[-37.59707562   0.           0.        ]\n",
      "[-38.5611032   0.          0.       ]\n",
      "[-39.52513078   0.           0.        ]\n",
      "[-40.48915836   0.           0.        ]\n",
      "[-41.45318594   0.           0.        ]\n",
      "[-42.41721352   0.           0.        ]\n",
      "[-43.3812411   0.          0.       ]\n",
      "[-44.34526868   0.           0.        ]\n",
      "[-45.30929626   0.           0.        ]\n",
      "[-46.27332384   0.           0.        ]\n",
      "[-47.23735142   0.           0.        ]\n",
      "[-48.201379   0.         0.      ]\n",
      "[-47.23735142   0.           0.        ]\n",
      "[-46.27332384   0.           0.        ]\n",
      "[-45.30929626   0.           0.        ]\n",
      "[-44.34526868   0.           0.        ]\n",
      "[-43.3812411   0.          0.       ]\n",
      "[-42.41721352   0.           0.        ]\n",
      "[-41.45318594   0.           0.        ]\n",
      "[-40.48915836   0.           0.        ]\n",
      "[-39.52513078   0.           0.        ]\n",
      "[-38.5611032   0.          0.       ]\n",
      "[-37.59707562   0.           0.        ]\n",
      "[-36.63304804   0.           0.        ]\n",
      "[-35.66902046   0.           0.        ]\n",
      "[-34.70499288   0.           0.        ]\n",
      "[-33.7409653   0.          0.       ]\n",
      "[-32.77693772   0.           0.        ]\n",
      "[-31.81291014   0.           0.        ]\n",
      "[-30.84888256   0.           0.        ]\n",
      "[-29.88485498   0.           0.        ]\n",
      "[-28.9208274   0.          0.       ]\n",
      "[-27.95679982   0.           0.        ]\n",
      "[-26.99277224   0.           0.        ]\n",
      "[-26.02874466   0.           0.        ]\n",
      "[-25.06471708   0.           0.        ]\n",
      "[-24.1006895   0.          0.       ]\n",
      "[-23.13666192   0.           0.        ]\n",
      "[-22.17263434   0.           0.        ]\n",
      "[-21.20860676   0.           0.        ]\n",
      "[-20.24457918   0.           0.        ]\n",
      "[-19.2805516   0.          0.       ]\n",
      "[-18.31652402   0.           0.        ]\n",
      "[-17.35249644   0.           0.        ]\n",
      "[-16.38846886   0.           0.        ]\n",
      "[-15.42444128   0.           0.        ]\n",
      "[-14.4604137   0.          0.       ]\n",
      "[-13.49638612   0.           0.        ]\n",
      "[-12.53235854   0.           0.        ]\n",
      "[-11.56833096   0.           0.        ]\n",
      "[-10.60430338   0.           0.        ]\n",
      "[-9.6402758  0.         0.       ]\n",
      "[-8.67624822  0.          0.        ]\n",
      "[-7.71222064  0.          0.        ]\n",
      "[-6.74819306  0.          0.        ]\n",
      "[-5.78416548  0.          0.        ]\n",
      "[-4.8201379  0.         0.       ]\n",
      "[-3.85611032  0.          0.        ]\n",
      "[-2.89208274  0.          0.        ]\n",
      "[-1.92805516  0.          0.        ]\n",
      "[-0.96402758  0.          0.        ]\n",
      "[4.4408921e-16 0.0000000e+00 0.0000000e+00]\n"
     ]
    }
   ],
   "source": [
    "a.single_fixed = np.zeros(a.vislen + a.hidlen, dtype = np.float_)\n",
    "for v in a.chosen_images:\n",
    "    a.single_fixed += a.calc_sigma_v(v)\n",
    "a.single"
   ]
  },
  {
   "cell_type": "code",
   "execution_count": 10,
   "metadata": {},
   "outputs": [
    {
     "data": {
      "text/plain": [
       "array([[ 0.,  1., -1.],\n",
       "       [ 0.,  0.,  0.],\n",
       "       [ 0.,  0.,  0.]])"
      ]
     },
     "execution_count": 10,
     "metadata": {},
     "output_type": "execute_result"
    }
   ],
   "source": [
    "a.double_unfixed"
   ]
  }
 ],
 "metadata": {
  "kernelspec": {
   "display_name": "Python 3",
   "language": "python",
   "name": "python3"
  },
  "language_info": {
   "codemirror_mode": {
    "name": "ipython",
    "version": 3
   },
   "file_extension": ".py",
   "mimetype": "text/x-python",
   "name": "python",
   "nbconvert_exporter": "python",
   "pygments_lexer": "ipython3",
   "version": "3.6.9"
  }
 },
 "nbformat": 4,
 "nbformat_minor": 4
}
