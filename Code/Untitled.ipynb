{
 "cells": [
  {
   "cell_type": "code",
   "execution_count": 1,
   "metadata": {},
   "outputs": [],
   "source": [
    "from classes import *\n",
    "\n",
    "def test(a, b):\n",
    "    qbm = QBM(a, b)\n",
    "    qbm.read_images()\n",
    "    return qbm\n",
    "a = test(4, 6)\n",
    "a.randomise_coef()\n",
    "a.read_tests()\n",
    "#a.sampler = EmbeddingComposite(DWaveSampler())"
   ]
  },
  {
   "cell_type": "code",
   "execution_count": null,
   "metadata": {
    "scrolled": true
   },
   "outputs": [
    {
     "name": "stdout",
     "output_type": "stream",
     "text": [
      "Image:  0\n",
      "Image:  100\n",
      "Image:  200\n",
      "Image:  300\n",
      "Image:  400\n",
      "Image:  500\n",
      "Image:  600\n",
      "Image:  700\n",
      "Image:  800\n",
      "Image:  900\n",
      "Image:  0\n",
      "Image:  100\n",
      "Image:  200\n",
      "Image:  300\n",
      "Image:  400\n",
      "Image:  500\n",
      "Image:  600\n",
      "Image:  700\n",
      "Image:  800\n",
      "Image:  900\n",
      "Image:  0\n",
      "Image:  100\n",
      "Image:  200\n",
      "Image:  300\n",
      "Image:  400\n",
      "Image:  500\n",
      "Image:  600\n",
      "Image:  700\n",
      "Image:  800\n",
      "Image:  900\n",
      "Image:  0\n",
      "Image:  100\n",
      "Image:  200\n",
      "Image:  300\n",
      "Image:  400\n",
      "Image:  500\n",
      "Image:  600\n",
      "Image:  700\n",
      "Image:  800\n",
      "Image:  900\n",
      "Image:  0\n",
      "Image:  100\n",
      "Image:  200\n",
      "Image:  300\n",
      "Image:  400\n",
      "Image:  500\n",
      "Image:  600\n",
      "Image:  700\n",
      "Image:  800\n",
      "Image:  900\n",
      "Image:  0\n",
      "Image:  100\n",
      "Image:  200\n",
      "Image:  300\n",
      "Image:  400\n",
      "Image:  500\n",
      "Image:  600\n",
      "Image:  700\n",
      "Image:  800\n",
      "Image:  900\n"
     ]
    }
   ],
   "source": [
    "for i in range(40):\n",
    "    if i % 10 == 9:\n",
    "        a.stepsize = a.stepsize / 10\n",
    "        print(a.delta)\n",
    "    a.sim_run(1000)\n",
    "    a.fetch_data()\n",
    "    a.calc_double_unfixed()\n",
    "    a.calc_double_fixed()\n",
    "    a.change_coef()"
   ]
  }
 ],
 "metadata": {
  "kernelspec": {
   "display_name": "Python 3",
   "language": "python",
   "name": "python3"
  },
  "language_info": {
   "codemirror_mode": {
    "name": "ipython",
    "version": 3
   },
   "file_extension": ".py",
   "mimetype": "text/x-python",
   "name": "python",
   "nbconvert_exporter": "python",
   "pygments_lexer": "ipython3",
   "version": "3.6.9"
  }
 },
 "nbformat": 4,
 "nbformat_minor": 4
}
